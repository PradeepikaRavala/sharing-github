{
 "cells": [
  {
   "cell_type": "markdown",
   "metadata": {},
   "source": [
    "Name: Pradeepika Ravala\n",
    "Project: Project 4\n",
    "\"Retail Analysis with Walmart Data\""
   ]
  },
  {
   "cell_type": "code",
   "execution_count": 1,
   "metadata": {},
   "outputs": [],
   "source": [
    "#Importing supporting libraries\n",
    "import numpy as np\n",
    "import pandas as pd\n",
    "import seaborn as sb\n",
    "import matplotlib.pyplot as mp\n",
    "from scipy import stats\n",
    "from datetime import date, datetime "
   ]
  },
  {
   "cell_type": "code",
   "execution_count": 2,
   "metadata": {},
   "outputs": [],
   "source": [
    "wal_sales = pd.read_csv(\"Walmart_Store_sales.csv\", parse_dates=True)"
   ]
  },
  {
   "cell_type": "code",
   "execution_count": 3,
   "metadata": {},
   "outputs": [
    {
     "data": {
      "text/plain": [
       "(6435, 8)"
      ]
     },
     "execution_count": 3,
     "metadata": {},
     "output_type": "execute_result"
    }
   ],
   "source": [
    "wal_sales.shape"
   ]
  },
  {
   "cell_type": "code",
   "execution_count": 4,
   "metadata": {},
   "outputs": [
    {
     "name": "stdout",
     "output_type": "stream",
     "text": [
      "<class 'pandas.core.frame.DataFrame'>\n",
      "RangeIndex: 6435 entries, 0 to 6434\n",
      "Data columns (total 8 columns):\n",
      " #   Column        Non-Null Count  Dtype  \n",
      "---  ------        --------------  -----  \n",
      " 0   Store         6435 non-null   int64  \n",
      " 1   Date          6435 non-null   object \n",
      " 2   Weekly_Sales  6435 non-null   float64\n",
      " 3   Holiday_Flag  6435 non-null   int64  \n",
      " 4   Temperature   6435 non-null   float64\n",
      " 5   Fuel_Price    6435 non-null   float64\n",
      " 6   CPI           6435 non-null   float64\n",
      " 7   Unemployment  6435 non-null   float64\n",
      "dtypes: float64(5), int64(2), object(1)\n",
      "memory usage: 402.3+ KB\n"
     ]
    }
   ],
   "source": [
    "#Information on the data available in the table about all the columns\n",
    "wal_sales.info()"
   ]
  },
  {
   "cell_type": "code",
   "execution_count": 5,
   "metadata": {},
   "outputs": [
    {
     "data": {
      "text/plain": [
       "Store           0\n",
       "Date            0\n",
       "Weekly_Sales    0\n",
       "Holiday_Flag    0\n",
       "Temperature     0\n",
       "Fuel_Price      0\n",
       "CPI             0\n",
       "Unemployment    0\n",
       "dtype: int64"
      ]
     },
     "execution_count": 5,
     "metadata": {},
     "output_type": "execute_result"
    }
   ],
   "source": [
    "#Checking for any missing values\n",
    "wal_sales.isna().sum()"
   ]
  },
  {
   "cell_type": "markdown",
   "metadata": {},
   "source": [
    "OBSERVATION:\n",
    "THERE ARE NO MISSING VALUES IN THE DATASET"
   ]
  },
  {
   "cell_type": "code",
   "execution_count": 6,
   "metadata": {},
   "outputs": [
    {
     "data": {
      "text/plain": [
       "Store                    45\n",
       "Date             31-12-2010\n",
       "Weekly_Sales    3.81869e+06\n",
       "Holiday_Flag              1\n",
       "Temperature          100.14\n",
       "Fuel_Price            4.468\n",
       "CPI                 227.233\n",
       "Unemployment         14.313\n",
       "dtype: object"
      ]
     },
     "execution_count": 6,
     "metadata": {},
     "output_type": "execute_result"
    }
   ],
   "source": [
    "#Checking the maximun values in the dataset\n",
    "wal_sales.max()"
   ]
  },
  {
   "cell_type": "code",
   "execution_count": 7,
   "metadata": {},
   "outputs": [
    {
     "data": {
      "text/html": [
       "<div>\n",
       "<style scoped>\n",
       "    .dataframe tbody tr th:only-of-type {\n",
       "        vertical-align: middle;\n",
       "    }\n",
       "\n",
       "    .dataframe tbody tr th {\n",
       "        vertical-align: top;\n",
       "    }\n",
       "\n",
       "    .dataframe thead tr th {\n",
       "        text-align: left;\n",
       "    }\n",
       "</style>\n",
       "<table border=\"1\" class=\"dataframe\">\n",
       "  <thead>\n",
       "    <tr>\n",
       "      <th></th>\n",
       "      <th>Store</th>\n",
       "      <th colspan=\"3\" halign=\"left\">Weekly_Sales</th>\n",
       "    </tr>\n",
       "    <tr>\n",
       "      <th></th>\n",
       "      <th></th>\n",
       "      <th>sum</th>\n",
       "      <th>std</th>\n",
       "      <th>mean</th>\n",
       "    </tr>\n",
       "  </thead>\n",
       "  <tbody>\n",
       "    <tr>\n",
       "      <th>0</th>\n",
       "      <td>1</td>\n",
       "      <td>2.224028e+08</td>\n",
       "      <td>155980.767761</td>\n",
       "      <td>1.555264e+06</td>\n",
       "    </tr>\n",
       "    <tr>\n",
       "      <th>1</th>\n",
       "      <td>2</td>\n",
       "      <td>2.753824e+08</td>\n",
       "      <td>237683.694682</td>\n",
       "      <td>1.925751e+06</td>\n",
       "    </tr>\n",
       "    <tr>\n",
       "      <th>2</th>\n",
       "      <td>3</td>\n",
       "      <td>5.758674e+07</td>\n",
       "      <td>46319.631557</td>\n",
       "      <td>4.027044e+05</td>\n",
       "    </tr>\n",
       "    <tr>\n",
       "      <th>3</th>\n",
       "      <td>4</td>\n",
       "      <td>2.995440e+08</td>\n",
       "      <td>266201.442297</td>\n",
       "      <td>2.094713e+06</td>\n",
       "    </tr>\n",
       "    <tr>\n",
       "      <th>4</th>\n",
       "      <td>5</td>\n",
       "      <td>4.547569e+07</td>\n",
       "      <td>37737.965745</td>\n",
       "      <td>3.180118e+05</td>\n",
       "    </tr>\n",
       "    <tr>\n",
       "      <th>5</th>\n",
       "      <td>6</td>\n",
       "      <td>2.237561e+08</td>\n",
       "      <td>212525.855862</td>\n",
       "      <td>1.564728e+06</td>\n",
       "    </tr>\n",
       "    <tr>\n",
       "      <th>6</th>\n",
       "      <td>7</td>\n",
       "      <td>8.159828e+07</td>\n",
       "      <td>112585.469220</td>\n",
       "      <td>5.706173e+05</td>\n",
       "    </tr>\n",
       "    <tr>\n",
       "      <th>7</th>\n",
       "      <td>8</td>\n",
       "      <td>1.299512e+08</td>\n",
       "      <td>106280.829881</td>\n",
       "      <td>9.087495e+05</td>\n",
       "    </tr>\n",
       "    <tr>\n",
       "      <th>8</th>\n",
       "      <td>9</td>\n",
       "      <td>7.778922e+07</td>\n",
       "      <td>69028.666585</td>\n",
       "      <td>5.439806e+05</td>\n",
       "    </tr>\n",
       "    <tr>\n",
       "      <th>9</th>\n",
       "      <td>10</td>\n",
       "      <td>2.716177e+08</td>\n",
       "      <td>302262.062504</td>\n",
       "      <td>1.899425e+06</td>\n",
       "    </tr>\n",
       "    <tr>\n",
       "      <th>10</th>\n",
       "      <td>11</td>\n",
       "      <td>1.939628e+08</td>\n",
       "      <td>165833.887863</td>\n",
       "      <td>1.356383e+06</td>\n",
       "    </tr>\n",
       "    <tr>\n",
       "      <th>11</th>\n",
       "      <td>12</td>\n",
       "      <td>1.442872e+08</td>\n",
       "      <td>139166.871880</td>\n",
       "      <td>1.009002e+06</td>\n",
       "    </tr>\n",
       "    <tr>\n",
       "      <th>12</th>\n",
       "      <td>13</td>\n",
       "      <td>2.865177e+08</td>\n",
       "      <td>265506.995776</td>\n",
       "      <td>2.003620e+06</td>\n",
       "    </tr>\n",
       "    <tr>\n",
       "      <th>13</th>\n",
       "      <td>14</td>\n",
       "      <td>2.889999e+08</td>\n",
       "      <td>317569.949476</td>\n",
       "      <td>2.020978e+06</td>\n",
       "    </tr>\n",
       "    <tr>\n",
       "      <th>14</th>\n",
       "      <td>15</td>\n",
       "      <td>8.913368e+07</td>\n",
       "      <td>120538.652043</td>\n",
       "      <td>6.233125e+05</td>\n",
       "    </tr>\n",
       "    <tr>\n",
       "      <th>15</th>\n",
       "      <td>16</td>\n",
       "      <td>7.425243e+07</td>\n",
       "      <td>85769.680133</td>\n",
       "      <td>5.192477e+05</td>\n",
       "    </tr>\n",
       "    <tr>\n",
       "      <th>16</th>\n",
       "      <td>17</td>\n",
       "      <td>1.277821e+08</td>\n",
       "      <td>112162.936087</td>\n",
       "      <td>8.935814e+05</td>\n",
       "    </tr>\n",
       "    <tr>\n",
       "      <th>17</th>\n",
       "      <td>18</td>\n",
       "      <td>1.551147e+08</td>\n",
       "      <td>176641.510839</td>\n",
       "      <td>1.084718e+06</td>\n",
       "    </tr>\n",
       "    <tr>\n",
       "      <th>18</th>\n",
       "      <td>19</td>\n",
       "      <td>2.066349e+08</td>\n",
       "      <td>191722.638730</td>\n",
       "      <td>1.444999e+06</td>\n",
       "    </tr>\n",
       "    <tr>\n",
       "      <th>19</th>\n",
       "      <td>20</td>\n",
       "      <td>3.013978e+08</td>\n",
       "      <td>275900.562742</td>\n",
       "      <td>2.107677e+06</td>\n",
       "    </tr>\n",
       "    <tr>\n",
       "      <th>20</th>\n",
       "      <td>21</td>\n",
       "      <td>1.081179e+08</td>\n",
       "      <td>128752.812853</td>\n",
       "      <td>7.560691e+05</td>\n",
       "    </tr>\n",
       "    <tr>\n",
       "      <th>21</th>\n",
       "      <td>22</td>\n",
       "      <td>1.470756e+08</td>\n",
       "      <td>161251.350631</td>\n",
       "      <td>1.028501e+06</td>\n",
       "    </tr>\n",
       "    <tr>\n",
       "      <th>22</th>\n",
       "      <td>23</td>\n",
       "      <td>1.987506e+08</td>\n",
       "      <td>249788.038068</td>\n",
       "      <td>1.389864e+06</td>\n",
       "    </tr>\n",
       "    <tr>\n",
       "      <th>23</th>\n",
       "      <td>24</td>\n",
       "      <td>1.940160e+08</td>\n",
       "      <td>167745.677567</td>\n",
       "      <td>1.356755e+06</td>\n",
       "    </tr>\n",
       "    <tr>\n",
       "      <th>24</th>\n",
       "      <td>25</td>\n",
       "      <td>1.010612e+08</td>\n",
       "      <td>112976.788600</td>\n",
       "      <td>7.067215e+05</td>\n",
       "    </tr>\n",
       "    <tr>\n",
       "      <th>25</th>\n",
       "      <td>26</td>\n",
       "      <td>1.434164e+08</td>\n",
       "      <td>110431.288141</td>\n",
       "      <td>1.002912e+06</td>\n",
       "    </tr>\n",
       "    <tr>\n",
       "      <th>26</th>\n",
       "      <td>27</td>\n",
       "      <td>2.538559e+08</td>\n",
       "      <td>239930.135688</td>\n",
       "      <td>1.775216e+06</td>\n",
       "    </tr>\n",
       "    <tr>\n",
       "      <th>27</th>\n",
       "      <td>28</td>\n",
       "      <td>1.892637e+08</td>\n",
       "      <td>181758.967539</td>\n",
       "      <td>1.323522e+06</td>\n",
       "    </tr>\n",
       "    <tr>\n",
       "      <th>28</th>\n",
       "      <td>29</td>\n",
       "      <td>7.714155e+07</td>\n",
       "      <td>99120.136596</td>\n",
       "      <td>5.394514e+05</td>\n",
       "    </tr>\n",
       "    <tr>\n",
       "      <th>29</th>\n",
       "      <td>30</td>\n",
       "      <td>6.271689e+07</td>\n",
       "      <td>22809.665590</td>\n",
       "      <td>4.385796e+05</td>\n",
       "    </tr>\n",
       "    <tr>\n",
       "      <th>30</th>\n",
       "      <td>31</td>\n",
       "      <td>1.996139e+08</td>\n",
       "      <td>125855.942933</td>\n",
       "      <td>1.395901e+06</td>\n",
       "    </tr>\n",
       "    <tr>\n",
       "      <th>31</th>\n",
       "      <td>32</td>\n",
       "      <td>1.668192e+08</td>\n",
       "      <td>138017.252087</td>\n",
       "      <td>1.166568e+06</td>\n",
       "    </tr>\n",
       "    <tr>\n",
       "      <th>32</th>\n",
       "      <td>33</td>\n",
       "      <td>3.716022e+07</td>\n",
       "      <td>24132.927322</td>\n",
       "      <td>2.598617e+05</td>\n",
       "    </tr>\n",
       "    <tr>\n",
       "      <th>33</th>\n",
       "      <td>34</td>\n",
       "      <td>1.382498e+08</td>\n",
       "      <td>104630.164676</td>\n",
       "      <td>9.667816e+05</td>\n",
       "    </tr>\n",
       "    <tr>\n",
       "      <th>34</th>\n",
       "      <td>35</td>\n",
       "      <td>1.315207e+08</td>\n",
       "      <td>211243.457791</td>\n",
       "      <td>9.197250e+05</td>\n",
       "    </tr>\n",
       "    <tr>\n",
       "      <th>35</th>\n",
       "      <td>36</td>\n",
       "      <td>5.341221e+07</td>\n",
       "      <td>60725.173579</td>\n",
       "      <td>3.735120e+05</td>\n",
       "    </tr>\n",
       "    <tr>\n",
       "      <th>36</th>\n",
       "      <td>37</td>\n",
       "      <td>7.420274e+07</td>\n",
       "      <td>21837.461190</td>\n",
       "      <td>5.189003e+05</td>\n",
       "    </tr>\n",
       "    <tr>\n",
       "      <th>37</th>\n",
       "      <td>38</td>\n",
       "      <td>5.515963e+07</td>\n",
       "      <td>42768.169450</td>\n",
       "      <td>3.857317e+05</td>\n",
       "    </tr>\n",
       "    <tr>\n",
       "      <th>38</th>\n",
       "      <td>39</td>\n",
       "      <td>2.074455e+08</td>\n",
       "      <td>217466.454833</td>\n",
       "      <td>1.450668e+06</td>\n",
       "    </tr>\n",
       "    <tr>\n",
       "      <th>39</th>\n",
       "      <td>40</td>\n",
       "      <td>1.378703e+08</td>\n",
       "      <td>119002.112858</td>\n",
       "      <td>9.641280e+05</td>\n",
       "    </tr>\n",
       "    <tr>\n",
       "      <th>40</th>\n",
       "      <td>41</td>\n",
       "      <td>1.813419e+08</td>\n",
       "      <td>187907.162766</td>\n",
       "      <td>1.268125e+06</td>\n",
       "    </tr>\n",
       "    <tr>\n",
       "      <th>41</th>\n",
       "      <td>42</td>\n",
       "      <td>7.956575e+07</td>\n",
       "      <td>50262.925530</td>\n",
       "      <td>5.564039e+05</td>\n",
       "    </tr>\n",
       "    <tr>\n",
       "      <th>42</th>\n",
       "      <td>43</td>\n",
       "      <td>9.056544e+07</td>\n",
       "      <td>40598.413260</td>\n",
       "      <td>6.333247e+05</td>\n",
       "    </tr>\n",
       "    <tr>\n",
       "      <th>43</th>\n",
       "      <td>44</td>\n",
       "      <td>4.329309e+07</td>\n",
       "      <td>24762.832015</td>\n",
       "      <td>3.027489e+05</td>\n",
       "    </tr>\n",
       "    <tr>\n",
       "      <th>44</th>\n",
       "      <td>45</td>\n",
       "      <td>1.123953e+08</td>\n",
       "      <td>130168.526635</td>\n",
       "      <td>7.859814e+05</td>\n",
       "    </tr>\n",
       "  </tbody>\n",
       "</table>\n",
       "</div>"
      ],
      "text/plain": [
       "   Store  Weekly_Sales                             \n",
       "                   sum            std          mean\n",
       "0      1  2.224028e+08  155980.767761  1.555264e+06\n",
       "1      2  2.753824e+08  237683.694682  1.925751e+06\n",
       "2      3  5.758674e+07   46319.631557  4.027044e+05\n",
       "3      4  2.995440e+08  266201.442297  2.094713e+06\n",
       "4      5  4.547569e+07   37737.965745  3.180118e+05\n",
       "5      6  2.237561e+08  212525.855862  1.564728e+06\n",
       "6      7  8.159828e+07  112585.469220  5.706173e+05\n",
       "7      8  1.299512e+08  106280.829881  9.087495e+05\n",
       "8      9  7.778922e+07   69028.666585  5.439806e+05\n",
       "9     10  2.716177e+08  302262.062504  1.899425e+06\n",
       "10    11  1.939628e+08  165833.887863  1.356383e+06\n",
       "11    12  1.442872e+08  139166.871880  1.009002e+06\n",
       "12    13  2.865177e+08  265506.995776  2.003620e+06\n",
       "13    14  2.889999e+08  317569.949476  2.020978e+06\n",
       "14    15  8.913368e+07  120538.652043  6.233125e+05\n",
       "15    16  7.425243e+07   85769.680133  5.192477e+05\n",
       "16    17  1.277821e+08  112162.936087  8.935814e+05\n",
       "17    18  1.551147e+08  176641.510839  1.084718e+06\n",
       "18    19  2.066349e+08  191722.638730  1.444999e+06\n",
       "19    20  3.013978e+08  275900.562742  2.107677e+06\n",
       "20    21  1.081179e+08  128752.812853  7.560691e+05\n",
       "21    22  1.470756e+08  161251.350631  1.028501e+06\n",
       "22    23  1.987506e+08  249788.038068  1.389864e+06\n",
       "23    24  1.940160e+08  167745.677567  1.356755e+06\n",
       "24    25  1.010612e+08  112976.788600  7.067215e+05\n",
       "25    26  1.434164e+08  110431.288141  1.002912e+06\n",
       "26    27  2.538559e+08  239930.135688  1.775216e+06\n",
       "27    28  1.892637e+08  181758.967539  1.323522e+06\n",
       "28    29  7.714155e+07   99120.136596  5.394514e+05\n",
       "29    30  6.271689e+07   22809.665590  4.385796e+05\n",
       "30    31  1.996139e+08  125855.942933  1.395901e+06\n",
       "31    32  1.668192e+08  138017.252087  1.166568e+06\n",
       "32    33  3.716022e+07   24132.927322  2.598617e+05\n",
       "33    34  1.382498e+08  104630.164676  9.667816e+05\n",
       "34    35  1.315207e+08  211243.457791  9.197250e+05\n",
       "35    36  5.341221e+07   60725.173579  3.735120e+05\n",
       "36    37  7.420274e+07   21837.461190  5.189003e+05\n",
       "37    38  5.515963e+07   42768.169450  3.857317e+05\n",
       "38    39  2.074455e+08  217466.454833  1.450668e+06\n",
       "39    40  1.378703e+08  119002.112858  9.641280e+05\n",
       "40    41  1.813419e+08  187907.162766  1.268125e+06\n",
       "41    42  7.956575e+07   50262.925530  5.564039e+05\n",
       "42    43  9.056544e+07   40598.413260  6.333247e+05\n",
       "43    44  4.329309e+07   24762.832015  3.027489e+05\n",
       "44    45  1.123953e+08  130168.526635  7.859814e+05"
      ]
     },
     "execution_count": 7,
     "metadata": {},
     "output_type": "execute_result"
    }
   ],
   "source": [
    "#creating a seperate dataframe for calculating sales maximumum, mean, standard deviation.\n",
    "sales = pd.DataFrame(wal_sales.groupby('Store').agg({'Weekly_Sales':['sum','std','mean']}))\n",
    "sales = sales.reset_index()\n",
    "sales"
   ]
  },
  {
   "cell_type": "code",
   "execution_count": 8,
   "metadata": {},
   "outputs": [
    {
     "name": "stdout",
     "output_type": "stream",
     "text": [
      "The store with maximum sales is:\n",
      "    Store  Weekly_Sales                             \n",
      "                   sum            std          mean\n",
      "19    20  3.013978e+08  275900.562742  2.107677e+06\n"
     ]
    }
   ],
   "source": [
    "#First question\n",
    "# Which store has maximum sales?\n",
    "#First we groupby the stores and \n",
    "maxsales = sales.loc[sales[('Weekly_Sales','sum')]==sales[('Weekly_Sales','sum')].max()]\n",
    "print(\"The store with maximum sales is:\\n\",maxsales)"
   ]
  },
  {
   "cell_type": "markdown",
   "metadata": {},
   "source": [
    "OBSERVATIONS:\n",
    "#First question\n",
    "# Which store has maximum sales?\n",
    "Store Number 20 has maximum sales in comparison to other stores."
   ]
  },
  {
   "cell_type": "code",
   "execution_count": 9,
   "metadata": {},
   "outputs": [
    {
     "name": "stdout",
     "output_type": "stream",
     "text": [
      "The store with maximum standard deviation in sales is:\n",
      "    Store  Weekly_Sales                             \n",
      "                   sum            std          mean\n",
      "13    14  2.889999e+08  317569.949476  2.020978e+06\n",
      "\n",
      "\n",
      "--------------------------------\n",
      "\n",
      "    Store  Weekly_Sales                               coeff_var\n",
      "                   sum            std          mean           \n",
      "13    14  2.889999e+08  317569.949476  2.020978e+06  15.713674\n",
      "9     10  2.716177e+08  302262.062504  1.899425e+06  15.913349\n",
      "19    20  3.013978e+08  275900.562742  2.107677e+06  13.090269\n",
      "3      4  2.995440e+08  266201.442297  2.094713e+06  12.708254\n",
      "12    13  2.865177e+08  265506.995776  2.003620e+06  13.251363\n",
      "22    23  1.987506e+08  249788.038068  1.389864e+06  17.972115\n",
      "26    27  2.538559e+08  239930.135688  1.775216e+06  13.515544\n",
      "1      2  2.753824e+08  237683.694682  1.925751e+06  12.342388\n",
      "38    39  2.074455e+08  217466.454833  1.450668e+06  14.990779\n",
      "5      6  2.237561e+08  212525.855862  1.564728e+06  13.582286\n",
      "34    35  1.315207e+08  211243.457791  9.197250e+05  22.968111\n",
      "18    19  2.066349e+08  191722.638730  1.444999e+06  13.268012\n",
      "40    41  1.813419e+08  187907.162766  1.268125e+06  14.817711\n",
      "27    28  1.892637e+08  181758.967539  1.323522e+06  13.732974\n",
      "17    18  1.551147e+08  176641.510839  1.084718e+06  16.284550\n",
      "23    24  1.940160e+08  167745.677567  1.356755e+06  12.363738\n",
      "10    11  1.939628e+08  165833.887863  1.356383e+06  12.226183\n",
      "21    22  1.470756e+08  161251.350631  1.028501e+06  15.678288\n",
      "0      1  2.224028e+08  155980.767761  1.555264e+06  10.029212\n",
      "11    12  1.442872e+08  139166.871880  1.009002e+06  13.792532\n",
      "31    32  1.668192e+08  138017.252087  1.166568e+06  11.831049\n",
      "44    45  1.123953e+08  130168.526635  7.859814e+05  16.561273\n",
      "20    21  1.081179e+08  128752.812853  7.560691e+05  17.029239\n",
      "30    31  1.996139e+08  125855.942933  1.395901e+06   9.016105\n",
      "14    15  8.913368e+07  120538.652043  6.233125e+05  19.338399\n",
      "39    40  1.378703e+08  119002.112858  9.641280e+05  12.342978\n",
      "24    25  1.010612e+08  112976.788600  7.067215e+05  15.986040\n",
      "6      7  8.159828e+07  112585.469220  5.706173e+05  19.730469\n",
      "16    17  1.277821e+08  112162.936087  8.935814e+05  12.552067\n",
      "25    26  1.434164e+08  110431.288141  1.002912e+06  11.011066\n",
      "7      8  1.299512e+08  106280.829881  9.087495e+05  11.695283\n",
      "33    34  1.382498e+08  104630.164676  9.667816e+05  10.822524\n",
      "28    29  7.714155e+07   99120.136596  5.394514e+05  18.374247\n",
      "15    16  7.425243e+07   85769.680133  5.192477e+05  16.518065\n",
      "8      9  7.778922e+07   69028.666585  5.439806e+05  12.689547\n",
      "35    36  5.341221e+07   60725.173579  3.735120e+05  16.257891\n",
      "41    42  7.956575e+07   50262.925530  5.564039e+05   9.033533\n",
      "2      3  5.758674e+07   46319.631557  4.027044e+05  11.502141\n",
      "37    38  5.515963e+07   42768.169450  3.857317e+05  11.087545\n",
      "42    43  9.056544e+07   40598.413260  6.333247e+05   6.410363\n",
      "4      5  4.547569e+07   37737.965745  3.180118e+05  11.866844\n",
      "43    44  4.329309e+07   24762.832015  3.027489e+05   8.179331\n",
      "32    33  3.716022e+07   24132.927322  2.598617e+05   9.286835\n",
      "29    30  6.271689e+07   22809.665590  4.385796e+05   5.200804\n",
      "36    37  7.420274e+07   21837.461190  5.189003e+05   4.208412\n"
     ]
    }
   ],
   "source": [
    "#Second Question\n",
    "#Which store has maximum standard deviation i.e., the sales vary a lot.\n",
    "#Calculating coefficient of variation\n",
    "maxstd = sales.loc[sales[('Weekly_Sales','std')]==sales[('Weekly_Sales','std')].max()]\n",
    "print(\"The store with maximum standard deviation in sales is:\\n\",maxstd)\n",
    "sales['coeff_var']=(sales[('Weekly_Sales','std')]/sales[('Weekly_Sales','mean')])*100\n",
    "print('\\n\\n--------------------------------\\n\\n',sales.sort_values([('Weekly_Sales','std')],ascending=False))"
   ]
  },
  {
   "cell_type": "markdown",
   "metadata": {},
   "source": [
    "OBSERVATIONS:\n",
    "\n",
    "#Second Question\n",
    "#Which store has maximum standard deviation i.e., the sales vary a lot.?\n",
    "#Calculating coefficient of variation?\n",
    "\n",
    "\n",
    "Store Number 14 has maximum standard deviation of sales in comparison to other stores.\n",
    "\n",
    "The coefficient of variation is high for store 10"
   ]
  },
  {
   "cell_type": "code",
   "execution_count": 10,
   "metadata": {},
   "outputs": [
    {
     "data": {
      "text/html": [
       "<div>\n",
       "<style scoped>\n",
       "    .dataframe tbody tr th:only-of-type {\n",
       "        vertical-align: middle;\n",
       "    }\n",
       "\n",
       "    .dataframe tbody tr th {\n",
       "        vertical-align: top;\n",
       "    }\n",
       "\n",
       "    .dataframe thead th {\n",
       "        text-align: right;\n",
       "    }\n",
       "</style>\n",
       "<table border=\"1\" class=\"dataframe\">\n",
       "  <thead>\n",
       "    <tr style=\"text-align: right;\">\n",
       "      <th></th>\n",
       "      <th>Store</th>\n",
       "      <th>Date</th>\n",
       "      <th>Weekly_Sales</th>\n",
       "      <th>Holiday_Flag</th>\n",
       "      <th>Temperature</th>\n",
       "      <th>Fuel_Price</th>\n",
       "      <th>CPI</th>\n",
       "      <th>Unemployment</th>\n",
       "      <th>Quarter</th>\n",
       "      <th>Monthly</th>\n",
       "    </tr>\n",
       "  </thead>\n",
       "  <tbody>\n",
       "    <tr>\n",
       "      <th>0</th>\n",
       "      <td>1</td>\n",
       "      <td>2010-02-05</td>\n",
       "      <td>1643690.90</td>\n",
       "      <td>0</td>\n",
       "      <td>42.31</td>\n",
       "      <td>2.572</td>\n",
       "      <td>211.096358</td>\n",
       "      <td>8.106</td>\n",
       "      <td>2010Q1</td>\n",
       "      <td>2010-02</td>\n",
       "    </tr>\n",
       "    <tr>\n",
       "      <th>1</th>\n",
       "      <td>1</td>\n",
       "      <td>2010-02-12</td>\n",
       "      <td>1641957.44</td>\n",
       "      <td>1</td>\n",
       "      <td>38.51</td>\n",
       "      <td>2.548</td>\n",
       "      <td>211.242170</td>\n",
       "      <td>8.106</td>\n",
       "      <td>2010Q1</td>\n",
       "      <td>2010-02</td>\n",
       "    </tr>\n",
       "    <tr>\n",
       "      <th>2</th>\n",
       "      <td>1</td>\n",
       "      <td>2010-02-19</td>\n",
       "      <td>1611968.17</td>\n",
       "      <td>0</td>\n",
       "      <td>39.93</td>\n",
       "      <td>2.514</td>\n",
       "      <td>211.289143</td>\n",
       "      <td>8.106</td>\n",
       "      <td>2010Q1</td>\n",
       "      <td>2010-02</td>\n",
       "    </tr>\n",
       "    <tr>\n",
       "      <th>3</th>\n",
       "      <td>1</td>\n",
       "      <td>2010-02-26</td>\n",
       "      <td>1409727.59</td>\n",
       "      <td>0</td>\n",
       "      <td>46.63</td>\n",
       "      <td>2.561</td>\n",
       "      <td>211.319643</td>\n",
       "      <td>8.106</td>\n",
       "      <td>2010Q1</td>\n",
       "      <td>2010-02</td>\n",
       "    </tr>\n",
       "    <tr>\n",
       "      <th>4</th>\n",
       "      <td>1</td>\n",
       "      <td>2010-03-05</td>\n",
       "      <td>1554806.68</td>\n",
       "      <td>0</td>\n",
       "      <td>46.50</td>\n",
       "      <td>2.625</td>\n",
       "      <td>211.350143</td>\n",
       "      <td>8.106</td>\n",
       "      <td>2010Q1</td>\n",
       "      <td>2010-03</td>\n",
       "    </tr>\n",
       "  </tbody>\n",
       "</table>\n",
       "</div>"
      ],
      "text/plain": [
       "   Store       Date  Weekly_Sales  Holiday_Flag  Temperature  Fuel_Price  \\\n",
       "0      1 2010-02-05    1643690.90             0        42.31       2.572   \n",
       "1      1 2010-02-12    1641957.44             1        38.51       2.548   \n",
       "2      1 2010-02-19    1611968.17             0        39.93       2.514   \n",
       "3      1 2010-02-26    1409727.59             0        46.63       2.561   \n",
       "4      1 2010-03-05    1554806.68             0        46.50       2.625   \n",
       "\n",
       "          CPI  Unemployment Quarter  Monthly  \n",
       "0  211.096358         8.106  2010Q1  2010-02  \n",
       "1  211.242170         8.106  2010Q1  2010-02  \n",
       "2  211.289143         8.106  2010Q1  2010-02  \n",
       "3  211.319643         8.106  2010Q1  2010-02  \n",
       "4  211.350143         8.106  2010Q1  2010-03  "
      ]
     },
     "execution_count": 10,
     "metadata": {},
     "output_type": "execute_result"
    }
   ],
   "source": [
    "#Converting the dates into quarter and monthly data to enable the exploratory functions\n",
    "wal_sales['Date']=pd.to_datetime(wal_sales['Date'],format=\"%d-%m-%Y\")\n",
    "wal_sales['Quarter'] = pd.PeriodIndex(wal_sales.Date,freq='Q')\n",
    "wal_sales['Monthly'] = pd.PeriodIndex(wal_sales.Date,freq='M')\n",
    "wal_sales.head()"
   ]
  },
  {
   "cell_type": "code",
   "execution_count": 11,
   "metadata": {},
   "outputs": [
    {
     "data": {
      "text/plain": [
       "Index(['Store', 'Date', 'Weekly_Sales', 'Holiday_Flag', 'Temperature',\n",
       "       'Fuel_Price', 'CPI', 'Unemployment', 'Quarter', 'Monthly'],\n",
       "      dtype='object')"
      ]
     },
     "execution_count": 11,
     "metadata": {},
     "output_type": "execute_result"
    }
   ],
   "source": [
    "wal_sales.columns"
   ]
  },
  {
   "cell_type": "code",
   "execution_count": 12,
   "metadata": {},
   "outputs": [
    {
     "data": {
      "text/html": [
       "<div>\n",
       "<style scoped>\n",
       "    .dataframe tbody tr th:only-of-type {\n",
       "        vertical-align: middle;\n",
       "    }\n",
       "\n",
       "    .dataframe tbody tr th {\n",
       "        vertical-align: top;\n",
       "    }\n",
       "\n",
       "    .dataframe thead tr th {\n",
       "        text-align: left;\n",
       "    }\n",
       "\n",
       "    .dataframe thead tr:last-of-type th {\n",
       "        text-align: right;\n",
       "    }\n",
       "</style>\n",
       "<table border=\"1\" class=\"dataframe\">\n",
       "  <thead>\n",
       "    <tr>\n",
       "      <th></th>\n",
       "      <th></th>\n",
       "      <th>Weekly_Sales</th>\n",
       "    </tr>\n",
       "    <tr>\n",
       "      <th></th>\n",
       "      <th></th>\n",
       "      <th>sum</th>\n",
       "    </tr>\n",
       "    <tr>\n",
       "      <th>Quarter</th>\n",
       "      <th>Store</th>\n",
       "      <th></th>\n",
       "    </tr>\n",
       "  </thead>\n",
       "  <tbody>\n",
       "    <tr>\n",
       "      <th rowspan=\"5\" valign=\"top\">2010Q1</th>\n",
       "      <th>1</th>\n",
       "      <td>12178638.08</td>\n",
       "    </tr>\n",
       "    <tr>\n",
       "      <th>2</th>\n",
       "      <td>15942113.37</td>\n",
       "    </tr>\n",
       "    <tr>\n",
       "      <th>3</th>\n",
       "      <td>3245878.82</td>\n",
       "    </tr>\n",
       "    <tr>\n",
       "      <th>4</th>\n",
       "      <td>15824390.55</td>\n",
       "    </tr>\n",
       "    <tr>\n",
       "      <th>5</th>\n",
       "      <td>2343866.68</td>\n",
       "    </tr>\n",
       "  </tbody>\n",
       "</table>\n",
       "</div>"
      ],
      "text/plain": [
       "              Weekly_Sales\n",
       "                       sum\n",
       "Quarter Store             \n",
       "2010Q1  1      12178638.08\n",
       "        2      15942113.37\n",
       "        3       3245878.82\n",
       "        4      15824390.55\n",
       "        5       2343866.68"
      ]
     },
     "execution_count": 12,
     "metadata": {},
     "output_type": "execute_result"
    }
   ],
   "source": [
    "Quarterly = pd.DataFrame(wal_sales.groupby(['Quarter','Store']).agg({'Weekly_Sales':['sum']}))\n",
    "Quarterly.head()"
   ]
  },
  {
   "cell_type": "code",
   "execution_count": 13,
   "metadata": {},
   "outputs": [
    {
     "data": {
      "text/html": [
       "<div>\n",
       "<style scoped>\n",
       "    .dataframe tbody tr th:only-of-type {\n",
       "        vertical-align: middle;\n",
       "    }\n",
       "\n",
       "    .dataframe tbody tr th {\n",
       "        vertical-align: top;\n",
       "    }\n",
       "\n",
       "    .dataframe thead th {\n",
       "        text-align: right;\n",
       "    }\n",
       "</style>\n",
       "<table border=\"1\" class=\"dataframe\">\n",
       "  <thead>\n",
       "    <tr style=\"text-align: right;\">\n",
       "      <th></th>\n",
       "      <th>Q2_2012_Sales</th>\n",
       "      <th>Q3_2012_Sales</th>\n",
       "    </tr>\n",
       "    <tr>\n",
       "      <th>Store</th>\n",
       "      <th></th>\n",
       "      <th></th>\n",
       "    </tr>\n",
       "  </thead>\n",
       "  <tbody>\n",
       "    <tr>\n",
       "      <th>1</th>\n",
       "      <td>20978760.12</td>\n",
       "      <td>20253947.78</td>\n",
       "    </tr>\n",
       "    <tr>\n",
       "      <th>2</th>\n",
       "      <td>25083604.88</td>\n",
       "      <td>24303354.86</td>\n",
       "    </tr>\n",
       "    <tr>\n",
       "      <th>3</th>\n",
       "      <td>5620316.49</td>\n",
       "      <td>5298005.47</td>\n",
       "    </tr>\n",
       "    <tr>\n",
       "      <th>4</th>\n",
       "      <td>28454363.67</td>\n",
       "      <td>27796792.46</td>\n",
       "    </tr>\n",
       "    <tr>\n",
       "      <th>5</th>\n",
       "      <td>4466363.69</td>\n",
       "      <td>4163790.99</td>\n",
       "    </tr>\n",
       "  </tbody>\n",
       "</table>\n",
       "</div>"
      ],
      "text/plain": [
       "       Q2_2012_Sales  Q3_2012_Sales\n",
       "Store                              \n",
       "1        20978760.12    20253947.78\n",
       "2        25083604.88    24303354.86\n",
       "3         5620316.49     5298005.47\n",
       "4        28454363.67    27796792.46\n",
       "5         4466363.69     4163790.99"
      ]
     },
     "execution_count": 13,
     "metadata": {},
     "output_type": "execute_result"
    }
   ],
   "source": [
    "q2_2012_data = wal_sales[wal_sales['Quarter']=='2012Q2']\n",
    "q3_2012_data = wal_sales[wal_sales['Quarter']=='2012Q3']\n",
    "\n",
    "q2_2012 = pd.DataFrame(q2_2012_data.groupby('Store')['Weekly_Sales'].sum())\n",
    "q2_2012.rename(columns={'Weekly_Sales':'Q2_2012_Sales'},inplace=True)\n",
    "q3_2012 = pd.DataFrame(q3_2012_data.groupby('Store')['Weekly_Sales'].sum())\n",
    "q3_2012.rename(columns={'Weekly_Sales':'Q3_2012_Sales'},inplace=True)\n",
    "\n",
    "growth_2012 = q2_2012.merge(q3_2012,how='inner',on='Store')\n",
    "growth_2012.head()\n",
    "\n",
    "#To calculate the growth rate we need a table with Q2'2012 data as well as Q3'2012 data"
   ]
  },
  {
   "cell_type": "code",
   "execution_count": 14,
   "metadata": {},
   "outputs": [
    {
     "name": "stdout",
     "output_type": "stream",
     "text": [
      "The store with highest growthrate for Q3 2012 is:\n",
      "\n",
      "        Q2_2012_Sales  Q3_2012_Sales  Growthrate\n",
      "Store                                          \n",
      "7         7290859.27     8262787.39       13.33\n"
     ]
    }
   ],
   "source": [
    "#Question 3:\n",
    "#Which store/s has good quarterly growth rate in Q3’2012\n",
    "#Growthrate Q3 quarterly = ((q3 2012 sales - q2 2012 sales)/ q2 2012 sales)*100\n",
    "\n",
    "growth_2012['Growthrate']=round((((growth_2012['Q3_2012_Sales']-growth_2012['Q2_2012_Sales'])/growth_2012['Q2_2012_Sales'])*100),2)\n",
    "growth_2012.sort_values('Growthrate',ascending=False)\n",
    "highgrowth = growth_2012.loc[growth_2012['Growthrate']==growth_2012['Growthrate'].max()]\n",
    "print(\"The store with highest growthrate for Q3 2012 is:\\n\\n\", highgrowth)"
   ]
  },
  {
   "cell_type": "markdown",
   "metadata": {},
   "source": [
    "OBSERVATION:\n",
    "\n",
    "#Question 3:\n",
    "#Which store/s has good quarterly growth rate in Q3’2012\n",
    "#Growthrate Q3 quarterly = ((q3 2012 sales - q2 2012 sales)/ q2 2012 sales)*100\n",
    "\n",
    "\n",
    "    The store with highest growthrate for Q3 2012 is 7"
   ]
  },
  {
   "cell_type": "code",
   "execution_count": 15,
   "metadata": {},
   "outputs": [
    {
     "data": {
      "text/plain": [
       "Holiday_Flag\n",
       "0    1.041256e+06\n",
       "1    1.122888e+06\n",
       "Name: Weekly_Sales, dtype: float64"
      ]
     },
     "execution_count": 15,
     "metadata": {},
     "output_type": "execute_result"
    }
   ],
   "source": [
    "#Question 4\n",
    "#Some holidays have a negative impact on sales. \n",
    "#Find out holidays which have higher sales than the mean sales in non-holiday season for all stores together\n",
    "mean_hol_sales = wal_sales.groupby('Holiday_Flag')['Weekly_Sales'].mean()\n",
    "mean_hol_sales"
   ]
  },
  {
   "cell_type": "code",
   "execution_count": 16,
   "metadata": {},
   "outputs": [
    {
     "name": "stdout",
     "output_type": "stream",
     "text": [
      "SuperBowl Mean Sales  :  1079127.99\n",
      "Labour Day Mean Sales  :  1042427.29\n",
      "Thanks Giving Mean Sales  :  1471273.43\n",
      "Christmas Mean Sales  :  960833.11\n",
      "Non-Holiday Mean Sales  :  1041256.38\n",
      "\n",
      "\n",
      "\n",
      "\n",
      " On this Date 2010-02-12 00:00:00 Holiday Sales is greater than Non Holiday Sales and the Sales :48336677.63000002\n",
      "\n",
      " On this Date 2010-09-10 00:00:00 Holiday Sales is greater than Non Holiday Sales and the Sales :45634397.84\n",
      "\n",
      " On this Date 2010-11-26 00:00:00 Holiday Sales is greater than Non Holiday Sales and the Sales :65821003.23999999\n",
      "\n",
      " On this Date 2010-12-31 00:00:00 Holiday Sales is greater than Non Holiday Sales and the Sales :40432519.0\n",
      "\n",
      " On this Date 2011-02-11 00:00:00 Holiday Sales is greater than Non Holiday Sales and the Sales :47336192.79000002\n",
      "\n",
      " On this Date 2011-09-09 00:00:00 Holiday Sales is greater than Non Holiday Sales and the Sales :46763227.529999994\n",
      "\n",
      " On this Date 2011-11-25 00:00:00 Holiday Sales is greater than Non Holiday Sales and the Sales :66593605.25999998\n",
      "\n",
      " On this Date 2011-12-30 00:00:00 Holiday Sales is greater than Non Holiday Sales and the Sales :46042461.04000001\n",
      "\n",
      " On this Date 2012-02-10 00:00:00 Holiday Sales is greater than Non Holiday Sales and the Sales :50009407.919999994\n",
      "\n",
      " On this Date 2012-09-07 00:00:00 Holiday Sales is greater than Non Holiday Sales and the Sales :48330059.31\n"
     ]
    }
   ],
   "source": [
    "#creating time stamp for holidays\n",
    "# SB=superbowl season for 4 years; LD:labourday; TG=thanksgiving;CH=christmas\n",
    "#1-2010,2-2011,3-2012,4-2013\n",
    "\n",
    "Holiday_sales = wal_sales[wal_sales['Holiday_Flag'] == 1]\n",
    "Nonholiday_sales =wal_sales[wal_sales['Holiday_Flag'] == 0]\n",
    "\n",
    "SB1=pd.Timestamp(date(2010,2,12))\n",
    "SB2=pd.Timestamp(date(2011,2,11))\n",
    "SB3=pd.Timestamp(date(2012,2,10))\n",
    "SB4=pd.Timestamp(date(2013,2,8))\n",
    "\n",
    "LD1=pd.Timestamp(date(2010,9,10))\n",
    "LD2=pd.Timestamp(date(2011,9,9))\n",
    "LD3=pd.Timestamp(date(2012,9,7))\n",
    "LD4=pd.Timestamp(date(2013,9,6))\n",
    "\n",
    "TG1=pd.Timestamp(date(2010,11,26))\n",
    "TG2=pd.Timestamp(date(2011,11,25))\n",
    "TG3=pd.Timestamp(date(2012,11,23))\n",
    "TG4=pd.Timestamp(date(2013,11,29))\n",
    "\n",
    "CH1 = pd.Timestamp(date(2010,12,31))\n",
    "CH2 = pd.Timestamp(date(2011,12,30))\n",
    "CH3 = pd.Timestamp(date(2012,12,28))\n",
    "CH4 = pd.Timestamp(date(2013,12,27))\n",
    "\n",
    "CH_mean_sales = wal_sales[(wal_sales.Date==CH1) | (wal_sales.Date==CH2) | (wal_sales.Date==CH3) | (wal_sales.Date==CH4)]\n",
    "TG_mean_sales = wal_sales[(wal_sales.Date==TG1) | (wal_sales.Date==TG2) | (wal_sales.Date==TG3) | (wal_sales.Date==TG4)]\n",
    "LD_mean_sales = wal_sales[(wal_sales.Date==LD1) | (wal_sales.Date==LD2) | (wal_sales.Date==LD3) | (wal_sales.Date==LD4)]\n",
    "SB_mean_sales = wal_sales[(wal_sales.Date==SB1) | (wal_sales.Date==SB2) | (wal_sales.Date==SB3) | (wal_sales.Date==SB4)]\n",
    "\n",
    "mean_sales = {'SuperBowl Mean Sales': round(SB_mean_sales['Weekly_Sales'].mean(),2),\n",
    "              'Labour Day Mean Sales': round(LD_mean_sales['Weekly_Sales'].mean(),2),\n",
    "              'Thanks Giving Mean Sales': round(TG_mean_sales['Weekly_Sales'].mean(),2),\n",
    "              'Christmas Mean Sales': round(CH_mean_sales['Weekly_Sales'].mean(),2),\n",
    "              'Non-Holiday Mean Sales': round(wal_sales[wal_sales.Holiday_Flag == 0]['Weekly_Sales'].mean(),2)}\n",
    "\n",
    "for key, value in mean_sales.items():\n",
    "    print(key, ' : ', value)\n",
    "\n",
    "print('\\n\\n')\n",
    "\n",
    "\n",
    "\n",
    "Nonholiday_sales_mean = Nonholiday_sales.groupby(['Date']).agg({'Weekly_Sales':'mean'}).reset_index()\n",
    "Holiday_sales_sum = Holiday_sales.groupby(['Date']).agg({'Weekly_Sales':'sum'}).reset_index()\n",
    "\n",
    "for wsales in Holiday_sales_sum.itertuples():\n",
    "    for wsales1 in Nonholiday_sales_mean.itertuples():\n",
    "        if wsales.Weekly_Sales > wsales1.Weekly_Sales:\n",
    "            print(\"\\n On this Date {} Holiday Sales is greater than Non Holiday Sales and the Sales :{}\".format(wsales.Date,wsales.Weekly_Sales))\n",
    "        break;\n"
   ]
  },
  {
   "cell_type": "markdown",
   "metadata": {},
   "source": [
    "OBSERVATION:\n",
    "\n",
    "#Question 4\n",
    "#Some holidays have a negative impact on sales. \n",
    "#Find out holidays which have higher sales than the mean sales in non-holiday season for all stores together\n",
    "\n",
    "\n",
    "    \n",
    "According to the above results, it is evident that Holidat sales are greater than non holiday sales mean"
   ]
  },
  {
   "cell_type": "code",
   "execution_count": 17,
   "metadata": {},
   "outputs": [
    {
     "data": {
      "text/plain": [
       "Text(0.5, 1.0, 'Monthly Sales of total stores')"
      ]
     },
     "execution_count": 17,
     "metadata": {},
     "output_type": "execute_result"
    },
    {
     "data": {
      "image/png": "[encoded data removed]",
      "text/plain": [
       "<Figure size 1080x720 with 1 Axes>"
      ]
     },
     "metadata": {
      "needs_background": "light"
     },
     "output_type": "display_data"
    }
   ],
   "source": [
    "#Question 5\n",
    "#Provide a monthly and semester view of sales in units and give insights\n",
    "#Monthly sales view\n",
    "monthly = wal_sales.groupby('Monthly')['Weekly_Sales'].sum()\n",
    "monthly = monthly.reset_index()\n",
    "mp.figure(figsize=(15,10))\n",
    "barplt = sb.barplot(x=monthly['Monthly'], y=monthly['Weekly_Sales'], color='orange')\n",
    "barplt.set_xticklabels(barplt.get_xticklabels(), rotation=90)\n",
    "mp.title('Monthly Sales of total stores')"
   ]
  },
  {
   "cell_type": "markdown",
   "metadata": {},
   "source": [
    "OBSERVATION:\n",
    "\n",
    "#Question 5\n",
    "#Provide a monthly and semester view of sales in units and give insights\n",
    "\n",
    "\n",
    "Monthly sales of December in every year is high in comparison to other months.\n",
    "The Average sales per month is above average."
   ]
  },
  {
   "cell_type": "code",
   "execution_count": 18,
   "metadata": {},
   "outputs": [
    {
     "data": {
      "text/plain": [
       "Text(0.5, 1.0, 'Quarterly Sales of total stores')"
      ]
     },
     "execution_count": 18,
     "metadata": {},
     "output_type": "execute_result"
    },
    {
     "data": {
      "image/png": "[encoded data removed]",
      "text/plain": [
       "<Figure size 720x360 with 1 Axes>"
      ]
     },
     "metadata": {
      "needs_background": "light"
     },
     "output_type": "display_data"
    }
   ],
   "source": [
    "#Quarterly sales view\n",
    "quarterly = wal_sales.groupby('Quarter')['Weekly_Sales'].sum()\n",
    "quarterly = quarterly.reset_index()\n",
    "mp.figure(figsize=(10,5))\n",
    "barplt1 = sb.barplot(x=quarterly['Quarter'], y=quarterly['Weekly_Sales'], color='blue')\n",
    "barplt1.set_xticklabels(barplt1.get_xticklabels(), rotation=90)\n",
    "mp.title('Quarterly Sales of total stores')"
   ]
  },
  {
   "cell_type": "markdown",
   "metadata": {},
   "source": [
    "OBSERVATION:\n",
    "#Question 5\n",
    "#Provide a monthly and semester view of sales in units and give insights\n",
    "\n",
    "\n",
    "The highest Quarterly sales are recorded for Quarter 4 of 2010\n",
    "The lowest is recorded for Quarter 4 of 2012"
   ]
  },
  {
   "cell_type": "code",
   "execution_count": 19,
   "metadata": {},
   "outputs": [
    {
     "data": {
      "text/plain": [
       "Text(0.5, 1.0, 'Semester Wise Sales')"
      ]
     },
     "execution_count": 19,
     "metadata": {},
     "output_type": "execute_result"
    },
    {
     "data": {
      "image/png": "[encoded data removed]",
      "text/plain": [
       "<Figure size 720x360 with 1 Axes>"
      ]
     },
     "metadata": {
      "needs_background": "light"
     },
     "output_type": "display_data"
    }
   ],
   "source": [
    "#semester sales data (considering semester is 6 months)\n",
    "Semester = wal_sales.groupby(pd.Grouper(key='Date', freq='6M')).sum()\n",
    "Semester = Semester.reset_index()\n",
    "mp.figure(figsize=(10,5))\n",
    "X = Semester['Date']\n",
    "Y = Semester['Weekly_Sales']\n",
    "barplot2 = sb.barplot(X,Y,color='green')\n",
    "barplot2.set_xticklabels(barplot2.get_xticklabels(), rotation=70)\n",
    "mp.title('Semester Wise Sales')"
   ]
  },
  {
   "cell_type": "markdown",
   "metadata": {},
   "source": [
    "OBSERVATION:\n",
    "\n",
    "#Question 5\n",
    "#Provide a monthly and semester view of sales in units and give insights\n",
    "\n",
    "\n",
    "The Semester sales are considered for half - a- year sales and as per the sales are approximately equal and the company is having a little bit consistency in maintaining the sales."
   ]
  },
  {
   "cell_type": "code",
   "execution_count": 20,
   "metadata": {},
   "outputs": [
    {
     "data": {
      "text/html": [
       "<div>\n",
       "<style scoped>\n",
       "    .dataframe tbody tr th:only-of-type {\n",
       "        vertical-align: middle;\n",
       "    }\n",
       "\n",
       "    .dataframe tbody tr th {\n",
       "        vertical-align: top;\n",
       "    }\n",
       "\n",
       "    .dataframe thead th {\n",
       "        text-align: right;\n",
       "    }\n",
       "</style>\n",
       "<table border=\"1\" class=\"dataframe\">\n",
       "  <thead>\n",
       "    <tr style=\"text-align: right;\">\n",
       "      <th></th>\n",
       "      <th>Store</th>\n",
       "      <th>Date</th>\n",
       "    </tr>\n",
       "  </thead>\n",
       "  <tbody>\n",
       "    <tr>\n",
       "      <th>0</th>\n",
       "      <td>1</td>\n",
       "      <td>1</td>\n",
       "    </tr>\n",
       "    <tr>\n",
       "      <th>1</th>\n",
       "      <td>1</td>\n",
       "      <td>2</td>\n",
       "    </tr>\n",
       "    <tr>\n",
       "      <th>2</th>\n",
       "      <td>1</td>\n",
       "      <td>3</td>\n",
       "    </tr>\n",
       "    <tr>\n",
       "      <th>3</th>\n",
       "      <td>1</td>\n",
       "      <td>4</td>\n",
       "    </tr>\n",
       "    <tr>\n",
       "      <th>4</th>\n",
       "      <td>1</td>\n",
       "      <td>5</td>\n",
       "    </tr>\n",
       "  </tbody>\n",
       "</table>\n",
       "</div>"
      ],
      "text/plain": [
       "   Store  Date\n",
       "0      1     1\n",
       "1      1     2\n",
       "2      1     3\n",
       "3      1     4\n",
       "4      1     5"
      ]
     },
     "execution_count": 20,
     "metadata": {},
     "output_type": "execute_result"
    }
   ],
   "source": [
    "#Statistical Model\n",
    "#For Store 1 – Build  prediction models to forecast demand\n",
    "#Linear Regression – Utilize variables like date and restructure dates as 1 for 5 Feb 2010 \n",
    "#(starting from the earliest date in order). \n",
    "#Hypothesize if CPI, unemployment, and fuel price have any impact on sales.\n",
    "\n",
    "#Restructuring date for one store\n",
    "\n",
    "wal_sales1 = wal_sales.sort_values(['Store','Date'])\n",
    "feature_date = wal_sales1[wal_sales1['Store'] ==1][['Store','Date']]\n",
    "date_inc = wal_sales1[wal_sales['Store'] ==1][['Date']]\n",
    "date_inc.index = date_inc.index+1\n",
    "feature_date.Date = date_inc.index\n",
    "feature_date.head()"
   ]
  },
  {
   "cell_type": "code",
   "execution_count": 21,
   "metadata": {},
   "outputs": [
    {
     "data": {
      "text/html": [
       "<div>\n",
       "<style scoped>\n",
       "    .dataframe tbody tr th:only-of-type {\n",
       "        vertical-align: middle;\n",
       "    }\n",
       "\n",
       "    .dataframe tbody tr th {\n",
       "        vertical-align: top;\n",
       "    }\n",
       "\n",
       "    .dataframe thead th {\n",
       "        text-align: right;\n",
       "    }\n",
       "</style>\n",
       "<table border=\"1\" class=\"dataframe\">\n",
       "  <thead>\n",
       "    <tr style=\"text-align: right;\">\n",
       "      <th></th>\n",
       "      <th>Store</th>\n",
       "      <th>Weekly_Sales</th>\n",
       "      <th>Holiday_Flag</th>\n",
       "      <th>Temperature</th>\n",
       "      <th>Fuel_Price</th>\n",
       "      <th>CPI</th>\n",
       "      <th>Unemployment</th>\n",
       "    </tr>\n",
       "  </thead>\n",
       "  <tbody>\n",
       "    <tr>\n",
       "      <th>count</th>\n",
       "      <td>143.0</td>\n",
       "      <td>1.430000e+02</td>\n",
       "      <td>143.000000</td>\n",
       "      <td>143.000000</td>\n",
       "      <td>143.000000</td>\n",
       "      <td>143.000000</td>\n",
       "      <td>143.000000</td>\n",
       "    </tr>\n",
       "    <tr>\n",
       "      <th>mean</th>\n",
       "      <td>1.0</td>\n",
       "      <td>1.555264e+06</td>\n",
       "      <td>0.069930</td>\n",
       "      <td>68.306783</td>\n",
       "      <td>3.219699</td>\n",
       "      <td>215.996892</td>\n",
       "      <td>7.610420</td>\n",
       "    </tr>\n",
       "    <tr>\n",
       "      <th>std</th>\n",
       "      <td>0.0</td>\n",
       "      <td>1.559808e+05</td>\n",
       "      <td>0.255926</td>\n",
       "      <td>14.250486</td>\n",
       "      <td>0.427313</td>\n",
       "      <td>4.350890</td>\n",
       "      <td>0.383749</td>\n",
       "    </tr>\n",
       "    <tr>\n",
       "      <th>min</th>\n",
       "      <td>1.0</td>\n",
       "      <td>1.316899e+06</td>\n",
       "      <td>0.000000</td>\n",
       "      <td>35.400000</td>\n",
       "      <td>2.514000</td>\n",
       "      <td>210.337426</td>\n",
       "      <td>6.573000</td>\n",
       "    </tr>\n",
       "    <tr>\n",
       "      <th>25%</th>\n",
       "      <td>1.0</td>\n",
       "      <td>1.458105e+06</td>\n",
       "      <td>0.000000</td>\n",
       "      <td>58.265000</td>\n",
       "      <td>2.764500</td>\n",
       "      <td>211.549277</td>\n",
       "      <td>7.348000</td>\n",
       "    </tr>\n",
       "    <tr>\n",
       "      <th>50%</th>\n",
       "      <td>1.0</td>\n",
       "      <td>1.534850e+06</td>\n",
       "      <td>0.000000</td>\n",
       "      <td>69.640000</td>\n",
       "      <td>3.290000</td>\n",
       "      <td>215.459905</td>\n",
       "      <td>7.787000</td>\n",
       "    </tr>\n",
       "    <tr>\n",
       "      <th>75%</th>\n",
       "      <td>1.0</td>\n",
       "      <td>1.614892e+06</td>\n",
       "      <td>0.000000</td>\n",
       "      <td>80.485000</td>\n",
       "      <td>3.594000</td>\n",
       "      <td>220.531330</td>\n",
       "      <td>7.838000</td>\n",
       "    </tr>\n",
       "    <tr>\n",
       "      <th>max</th>\n",
       "      <td>1.0</td>\n",
       "      <td>2.387950e+06</td>\n",
       "      <td>1.000000</td>\n",
       "      <td>91.650000</td>\n",
       "      <td>3.907000</td>\n",
       "      <td>223.444251</td>\n",
       "      <td>8.106000</td>\n",
       "    </tr>\n",
       "  </tbody>\n",
       "</table>\n",
       "</div>"
      ],
      "text/plain": [
       "       Store  Weekly_Sales  Holiday_Flag  Temperature  Fuel_Price         CPI  \\\n",
       "count  143.0  1.430000e+02    143.000000   143.000000  143.000000  143.000000   \n",
       "mean     1.0  1.555264e+06      0.069930    68.306783    3.219699  215.996892   \n",
       "std      0.0  1.559808e+05      0.255926    14.250486    0.427313    4.350890   \n",
       "min      1.0  1.316899e+06      0.000000    35.400000    2.514000  210.337426   \n",
       "25%      1.0  1.458105e+06      0.000000    58.265000    2.764500  211.549277   \n",
       "50%      1.0  1.534850e+06      0.000000    69.640000    3.290000  215.459905   \n",
       "75%      1.0  1.614892e+06      0.000000    80.485000    3.594000  220.531330   \n",
       "max      1.0  2.387950e+06      1.000000    91.650000    3.907000  223.444251   \n",
       "\n",
       "       Unemployment  \n",
       "count    143.000000  \n",
       "mean       7.610420  \n",
       "std        0.383749  \n",
       "min        6.573000  \n",
       "25%        7.348000  \n",
       "50%        7.787000  \n",
       "75%        7.838000  \n",
       "max        8.106000  "
      ]
     },
     "execution_count": 21,
     "metadata": {},
     "output_type": "execute_result"
    }
   ],
   "source": [
    "#Creating new data for one store to analyze and predict the impact of one variable on other.\n",
    "data_Store1 = wal_sales[wal_sales.Store==1]\n",
    "data_Store1.describe()"
   ]
  },
  {
   "cell_type": "code",
   "execution_count": 22,
   "metadata": {},
   "outputs": [
    {
     "data": {
      "text/plain": [
       "Store                    int64\n",
       "Date            datetime64[ns]\n",
       "Weekly_Sales           float64\n",
       "Holiday_Flag             int64\n",
       "Temperature            float64\n",
       "Fuel_Price             float64\n",
       "CPI                    float64\n",
       "Unemployment           float64\n",
       "Quarter          period[Q-DEC]\n",
       "Monthly              period[M]\n",
       "dtype: object"
      ]
     },
     "execution_count": 22,
     "metadata": {},
     "output_type": "execute_result"
    }
   ],
   "source": [
    "data_Store1.dtypes"
   ]
  },
  {
   "cell_type": "code",
   "execution_count": 23,
   "metadata": {},
   "outputs": [
    {
     "data": {
      "text/html": [
       "<div>\n",
       "<style scoped>\n",
       "    .dataframe tbody tr th:only-of-type {\n",
       "        vertical-align: middle;\n",
       "    }\n",
       "\n",
       "    .dataframe tbody tr th {\n",
       "        vertical-align: top;\n",
       "    }\n",
       "\n",
       "    .dataframe thead th {\n",
       "        text-align: right;\n",
       "    }\n",
       "</style>\n",
       "<table border=\"1\" class=\"dataframe\">\n",
       "  <thead>\n",
       "    <tr style=\"text-align: right;\">\n",
       "      <th></th>\n",
       "      <th>Store</th>\n",
       "      <th>Weekly_Sales</th>\n",
       "      <th>Holiday_Flag</th>\n",
       "      <th>Temperature</th>\n",
       "      <th>Fuel_Price</th>\n",
       "      <th>CPI</th>\n",
       "      <th>Unemployment</th>\n",
       "    </tr>\n",
       "  </thead>\n",
       "  <tbody>\n",
       "    <tr>\n",
       "      <th>Store</th>\n",
       "      <td>NaN</td>\n",
       "      <td>NaN</td>\n",
       "      <td>NaN</td>\n",
       "      <td>NaN</td>\n",
       "      <td>NaN</td>\n",
       "      <td>NaN</td>\n",
       "      <td>NaN</td>\n",
       "    </tr>\n",
       "    <tr>\n",
       "      <th>Weekly_Sales</th>\n",
       "      <td>NaN</td>\n",
       "      <td>1.000000</td>\n",
       "      <td>0.194905</td>\n",
       "      <td>-0.222701</td>\n",
       "      <td>0.124592</td>\n",
       "      <td>0.225408</td>\n",
       "      <td>-0.097955</td>\n",
       "    </tr>\n",
       "    <tr>\n",
       "      <th>Holiday_Flag</th>\n",
       "      <td>NaN</td>\n",
       "      <td>0.194905</td>\n",
       "      <td>1.000000</td>\n",
       "      <td>-0.200543</td>\n",
       "      <td>-0.085903</td>\n",
       "      <td>-0.028919</td>\n",
       "      <td>0.082949</td>\n",
       "    </tr>\n",
       "    <tr>\n",
       "      <th>Temperature</th>\n",
       "      <td>NaN</td>\n",
       "      <td>-0.222701</td>\n",
       "      <td>-0.200543</td>\n",
       "      <td>1.000000</td>\n",
       "      <td>0.228493</td>\n",
       "      <td>0.118503</td>\n",
       "      <td>-0.180695</td>\n",
       "    </tr>\n",
       "    <tr>\n",
       "      <th>Fuel_Price</th>\n",
       "      <td>NaN</td>\n",
       "      <td>0.124592</td>\n",
       "      <td>-0.085903</td>\n",
       "      <td>0.228493</td>\n",
       "      <td>1.000000</td>\n",
       "      <td>0.755259</td>\n",
       "      <td>-0.513944</td>\n",
       "    </tr>\n",
       "    <tr>\n",
       "      <th>CPI</th>\n",
       "      <td>NaN</td>\n",
       "      <td>0.225408</td>\n",
       "      <td>-0.028919</td>\n",
       "      <td>0.118503</td>\n",
       "      <td>0.755259</td>\n",
       "      <td>1.000000</td>\n",
       "      <td>-0.813471</td>\n",
       "    </tr>\n",
       "    <tr>\n",
       "      <th>Unemployment</th>\n",
       "      <td>NaN</td>\n",
       "      <td>-0.097955</td>\n",
       "      <td>0.082949</td>\n",
       "      <td>-0.180695</td>\n",
       "      <td>-0.513944</td>\n",
       "      <td>-0.813471</td>\n",
       "      <td>1.000000</td>\n",
       "    </tr>\n",
       "  </tbody>\n",
       "</table>\n",
       "</div>"
      ],
      "text/plain": [
       "              Store  Weekly_Sales  Holiday_Flag  Temperature  Fuel_Price  \\\n",
       "Store           NaN           NaN           NaN          NaN         NaN   \n",
       "Weekly_Sales    NaN      1.000000      0.194905    -0.222701    0.124592   \n",
       "Holiday_Flag    NaN      0.194905      1.000000    -0.200543   -0.085903   \n",
       "Temperature     NaN     -0.222701     -0.200543     1.000000    0.228493   \n",
       "Fuel_Price      NaN      0.124592     -0.085903     0.228493    1.000000   \n",
       "CPI             NaN      0.225408     -0.028919     0.118503    0.755259   \n",
       "Unemployment    NaN     -0.097955      0.082949    -0.180695   -0.513944   \n",
       "\n",
       "                   CPI  Unemployment  \n",
       "Store              NaN           NaN  \n",
       "Weekly_Sales  0.225408     -0.097955  \n",
       "Holiday_Flag -0.028919      0.082949  \n",
       "Temperature   0.118503     -0.180695  \n",
       "Fuel_Price    0.755259     -0.513944  \n",
       "CPI           1.000000     -0.813471  \n",
       "Unemployment -0.813471      1.000000  "
      ]
     },
     "execution_count": 23,
     "metadata": {},
     "output_type": "execute_result"
    }
   ],
   "source": [
    "data_Store1.corr()"
   ]
  },
  {
   "cell_type": "code",
   "execution_count": 24,
   "metadata": {},
   "outputs": [
    {
     "data": {
      "text/plain": [
       "<AxesSubplot:>"
      ]
     },
     "execution_count": 24,
     "metadata": {},
     "output_type": "execute_result"
    },
    {
     "data": {
      "image/png": "[encoded data removed]",
      "text/plain": [
       "<Figure size 432x288 with 2 Axes>"
      ]
     },
     "metadata": {
      "needs_background": "light"
     },
     "output_type": "display_data"
    }
   ],
   "source": [
    "sb.heatmap(data_Store1.corr(),annot=True,linewidths=2)"
   ]
  },
  {
   "cell_type": "markdown",
   "metadata": {},
   "source": [
    "OBSERVATION:\n",
    "\n",
    "#Statistical Model\n",
    "#For Store 1 – Build  prediction models to forecast demand\n",
    "#Linear Regression – Utilize variables like date and restructure dates as 1 for 5 Feb 2010 \n",
    "#(starting from the earliest date in order). \n",
    "#Hypothesize if CPI, unemployment, and fuel price have any impact on sales.\n",
    "\n",
    "\n",
    "\n",
    "THE HEAT MAP GIVES US A CLEAR PICTURE THAT THERE IS NEGLIGIBLE ASSOCIATION WITH WEEKLY_SALES AMOUNT."
   ]
  },
  {
   "cell_type": "code",
   "execution_count": 25,
   "metadata": {},
   "outputs": [
    {
     "name": "stdout",
     "output_type": "stream",
     "text": [
      "r2_score for CPI and Weekly Sales for Store 1 is : 0.04534274413478612\n",
      "Actual Weekly sales on basis of CPI is [[1380020.27]\n",
      " [1532114.86]\n",
      " [1530761.43]\n",
      " [1802477.43]\n",
      " [1534849.64]]\n",
      "Predicted Weekly sales on basis of CPI is [[1552231.06192619]\n",
      " [1541857.01608367]\n",
      " [1546911.28127639]\n",
      " [1581516.41434956]\n",
      " [1543958.65177958]]\n"
     ]
    },
    {
     "data": {
      "text/plain": [
       "<AxesSubplot:xlabel='CPI', ylabel='Weekly_Sales'>"
      ]
     },
     "execution_count": 25,
     "metadata": {},
     "output_type": "execute_result"
    },
    {
     "data": {
      "image/png": "[encoded data removed]",
      "text/plain": [
       "<Figure size 432x288 with 1 Axes>"
      ]
     },
     "metadata": {
      "needs_background": "light"
     },
     "output_type": "display_data"
    }
   ],
   "source": [
    "# Hypothesizing with respect to CPI\n",
    "\n",
    "from sklearn.model_selection import train_test_split\n",
    "from sklearn.linear_model import LinearRegression\n",
    "from sklearn import metrics\n",
    "from sklearn.metrics import r2_score\n",
    "# creating target variable for performing statistical model\n",
    "# As the question is to evaluate weekly_sales of stores in relation to other variables, the target is Weeklysales\n",
    "\n",
    "target = data_Store1.Weekly_Sales.values\n",
    "target = target.reshape(-1,1)\n",
    "\n",
    "features_cpi = data_Store1.CPI.values\n",
    "features_cpi=features_cpi.reshape(-1,1)\n",
    "x_train_cpi,x_test_cpi, y_train_cpi, y_test_cpi = train_test_split(features_cpi, target, test_size = 0.3, random_state=30)\n",
    "model_cpi = LinearRegression()\n",
    "model_cpi.fit(x_train_cpi, y_train_cpi)\n",
    "y_pred_cpi = model_cpi.predict(x_test_cpi)\n",
    "model_cpi.score(x_test_cpi, y_test_cpi)\n",
    "print(\"r2_score for CPI and Weekly Sales for Store 1 is :\",r2_score(y_test_cpi,y_pred_cpi))\n",
    "print(\"Actual Weekly sales on basis of CPI is {}\".format(y_test_cpi[0:5]))\n",
    "print(\"Predicted Weekly sales on basis of CPI is {}\".format(y_pred_cpi[0:5]))\n",
    "sb.regplot(x=data_Store1['CPI'], y=data_Store1['Weekly_Sales'])"
   ]
  },
  {
   "cell_type": "code",
   "execution_count": 26,
   "metadata": {},
   "outputs": [
    {
     "name": "stdout",
     "output_type": "stream",
     "text": [
      "r2_score for CPI and Weekly Sales for Store 1 is : -0.03268328885325067\n",
      "Actual Weekly sales on basis of CPI is [[1380020.27]\n",
      " [1532114.86]\n",
      " [1530761.43]\n",
      " [1802477.43]\n",
      " [1534849.64]]\n",
      "Predicted Weekly sales on basis of CPI is [[1529716.61649186]\n",
      " [1543419.72487629]\n",
      " [1529716.61649186]\n",
      " [1559765.575592  ]\n",
      " [1529716.61649186]]\n"
     ]
    },
    {
     "data": {
      "text/plain": [
       "<AxesSubplot:xlabel='Unemployment', ylabel='Weekly_Sales'>"
      ]
     },
     "execution_count": 26,
     "metadata": {},
     "output_type": "execute_result"
    },
    {
     "data": {
      "image/png": "[encoded data removed]",
      "text/plain": [
       "<Figure size 432x288 with 1 Axes>"
      ]
     },
     "metadata": {
      "needs_background": "light"
     },
     "output_type": "display_data"
    }
   ],
   "source": [
    "#With Umemployement\n",
    "\n",
    "features_unemp = data_Store1.Unemployment.values\n",
    "features_unemp=features_unemp.reshape(-1,1)\n",
    "x_train_unemp,x_test_unemp, y_train_unemp, y_test_unemp = train_test_split(features_unemp, target, test_size = 0.3, random_state=30)\n",
    "model_unemp = LinearRegression()\n",
    "model_unemp.fit(x_train_unemp, y_train_unemp)\n",
    "y_pred_unemp = model_unemp.predict(x_test_unemp)\n",
    "model_unemp.score(x_test_unemp, y_test_unemp)\n",
    "print(\"r2_score for CPI and Weekly Sales for Store 1 is :\",r2_score(y_test_unemp,y_pred_unemp))\n",
    "print(\"Actual Weekly sales on basis of CPI is {}\".format(y_test_unemp[0:5]))\n",
    "print(\"Predicted Weekly sales on basis of CPI is {}\".format(y_pred_unemp[0:5]))\n",
    "sb.regplot(x=data_Store1['Unemployment'], y=data_Store1['Weekly_Sales'])"
   ]
  },
  {
   "cell_type": "code",
   "execution_count": 27,
   "metadata": {},
   "outputs": [
    {
     "name": "stdout",
     "output_type": "stream",
     "text": [
      "r2_score for CPI and Weekly Sales for Store 1 is : -0.04308693658560059\n",
      "Actual Weekly sales on basis of CPI is [[1380020.27]\n",
      " [1532114.86]\n",
      " [1530761.43]\n",
      " [1802477.43]\n",
      " [1534849.64]]\n",
      "Predicted Weekly sales on basis of CPI is [[1564059.12635404]\n",
      " [1574415.23900861]\n",
      " [1569359.01930079]\n",
      " [1560525.86438954]\n",
      " [1564851.06438057]]\n"
     ]
    },
    {
     "data": {
      "text/plain": [
       "<AxesSubplot:xlabel='Fuel_Price', ylabel='Weekly_Sales'>"
      ]
     },
     "execution_count": 27,
     "metadata": {},
     "output_type": "execute_result"
    },
    {
     "data": {
      "image/png": "[encoded data removed]",
      "text/plain": [
       "<Figure size 432x288 with 1 Axes>"
      ]
     },
     "metadata": {
      "needs_background": "light"
     },
     "output_type": "display_data"
    }
   ],
   "source": [
    "#With Fuel_Price\n",
    "\n",
    "features_FP = data_Store1.Fuel_Price.values\n",
    "features_FP=features_FP.reshape(-1,1)\n",
    "x_train_FP,x_test_FP, y_train_FP, y_test_FP = train_test_split(features_FP, target, test_size = 0.3, random_state=30)\n",
    "model_FP = LinearRegression()\n",
    "model_FP.fit(x_train_FP, y_train_FP)\n",
    "y_pred_FP = model_FP.predict(x_test_FP)\n",
    "model_FP.score(x_test_FP, y_test_FP)\n",
    "print(\"r2_score for CPI and Weekly Sales for Store 1 is :\",r2_score(y_test_FP,y_pred_FP))\n",
    "print(\"Actual Weekly sales on basis of CPI is {}\".format(y_test_FP[0:5]))\n",
    "print(\"Predicted Weekly sales on basis of CPI is {}\".format(y_pred_FP[0:5]))\n",
    "sb.regplot(x=data_Store1['Fuel_Price'], y=data_Store1['Weekly_Sales'])"
   ]
  },
  {
   "cell_type": "markdown",
   "metadata": {},
   "source": [
    "OBSERVATIONS:\n",
    "\n",
    "#Statistical Model\n",
    "#For Store 1 – Build  prediction models to forecast demand\n",
    "#Linear Regression – Utilize variables like date and restructure dates as 1 for 5 Feb 2010 \n",
    "#(starting from the earliest date in order). \n",
    "#Hypothesize if CPI, unemployment, and fuel price have any impact on sales.\n",
    "\n",
    "\n",
    "AS PER ABOVE SCATTER PLOTS AND R2 SCORE OF THE VARIABLES IN ASSOCIATION WITH WEEKLY SALES HAVE LITTLE TO NO EFFECT IN RESPECT OF STORE 1.\n",
    "WE CAN REPEAT THE SAME FOR OTHER STORES AND FINDOUT THE POSSIBLE OUTCOMES."
   ]
  },
  {
   "cell_type": "code",
   "execution_count": 28,
   "metadata": {},
   "outputs": [
    {
     "data": {
      "text/html": [
       "<div>\n",
       "<style scoped>\n",
       "    .dataframe tbody tr th:only-of-type {\n",
       "        vertical-align: middle;\n",
       "    }\n",
       "\n",
       "    .dataframe tbody tr th {\n",
       "        vertical-align: top;\n",
       "    }\n",
       "\n",
       "    .dataframe thead th {\n",
       "        text-align: right;\n",
       "    }\n",
       "</style>\n",
       "<table border=\"1\" class=\"dataframe\">\n",
       "  <thead>\n",
       "    <tr style=\"text-align: right;\">\n",
       "      <th></th>\n",
       "      <th>Store</th>\n",
       "      <th>Date</th>\n",
       "      <th>Weekly_Sales</th>\n",
       "      <th>Holiday_Flag</th>\n",
       "      <th>Temperature</th>\n",
       "      <th>Fuel_Price</th>\n",
       "      <th>CPI</th>\n",
       "      <th>Unemployment</th>\n",
       "      <th>Quarter</th>\n",
       "      <th>Monthly</th>\n",
       "      <th>today</th>\n",
       "      <th>days</th>\n",
       "      <th>day</th>\n",
       "    </tr>\n",
       "  </thead>\n",
       "  <tbody>\n",
       "    <tr>\n",
       "      <th>0</th>\n",
       "      <td>1</td>\n",
       "      <td>2010-02-05</td>\n",
       "      <td>1643690.90</td>\n",
       "      <td>0</td>\n",
       "      <td>42.31</td>\n",
       "      <td>2.572</td>\n",
       "      <td>211.096358</td>\n",
       "      <td>8.106</td>\n",
       "      <td>2010Q1</td>\n",
       "      <td>2010-02</td>\n",
       "      <td>2020-10-06</td>\n",
       "      <td>3896 days</td>\n",
       "      <td>Friday</td>\n",
       "    </tr>\n",
       "    <tr>\n",
       "      <th>1</th>\n",
       "      <td>1</td>\n",
       "      <td>2010-02-12</td>\n",
       "      <td>1641957.44</td>\n",
       "      <td>1</td>\n",
       "      <td>38.51</td>\n",
       "      <td>2.548</td>\n",
       "      <td>211.242170</td>\n",
       "      <td>8.106</td>\n",
       "      <td>2010Q1</td>\n",
       "      <td>2010-02</td>\n",
       "      <td>2020-10-06</td>\n",
       "      <td>3889 days</td>\n",
       "      <td>Friday</td>\n",
       "    </tr>\n",
       "    <tr>\n",
       "      <th>2</th>\n",
       "      <td>1</td>\n",
       "      <td>2010-02-19</td>\n",
       "      <td>1611968.17</td>\n",
       "      <td>0</td>\n",
       "      <td>39.93</td>\n",
       "      <td>2.514</td>\n",
       "      <td>211.289143</td>\n",
       "      <td>8.106</td>\n",
       "      <td>2010Q1</td>\n",
       "      <td>2010-02</td>\n",
       "      <td>2020-10-06</td>\n",
       "      <td>3882 days</td>\n",
       "      <td>Friday</td>\n",
       "    </tr>\n",
       "    <tr>\n",
       "      <th>3</th>\n",
       "      <td>1</td>\n",
       "      <td>2010-02-26</td>\n",
       "      <td>1409727.59</td>\n",
       "      <td>0</td>\n",
       "      <td>46.63</td>\n",
       "      <td>2.561</td>\n",
       "      <td>211.319643</td>\n",
       "      <td>8.106</td>\n",
       "      <td>2010Q1</td>\n",
       "      <td>2010-02</td>\n",
       "      <td>2020-10-06</td>\n",
       "      <td>3875 days</td>\n",
       "      <td>Friday</td>\n",
       "    </tr>\n",
       "    <tr>\n",
       "      <th>4</th>\n",
       "      <td>1</td>\n",
       "      <td>2010-03-05</td>\n",
       "      <td>1554806.68</td>\n",
       "      <td>0</td>\n",
       "      <td>46.50</td>\n",
       "      <td>2.625</td>\n",
       "      <td>211.350143</td>\n",
       "      <td>8.106</td>\n",
       "      <td>2010Q1</td>\n",
       "      <td>2010-03</td>\n",
       "      <td>2020-10-06</td>\n",
       "      <td>3868 days</td>\n",
       "      <td>Friday</td>\n",
       "    </tr>\n",
       "  </tbody>\n",
       "</table>\n",
       "</div>"
      ],
      "text/plain": [
       "   Store       Date  Weekly_Sales  Holiday_Flag  Temperature  Fuel_Price  \\\n",
       "0      1 2010-02-05    1643690.90             0        42.31       2.572   \n",
       "1      1 2010-02-12    1641957.44             1        38.51       2.548   \n",
       "2      1 2010-02-19    1611968.17             0        39.93       2.514   \n",
       "3      1 2010-02-26    1409727.59             0        46.63       2.561   \n",
       "4      1 2010-03-05    1554806.68             0        46.50       2.625   \n",
       "\n",
       "          CPI  Unemployment Quarter  Monthly      today      days     day  \n",
       "0  211.096358         8.106  2010Q1  2010-02 2020-10-06 3896 days  Friday  \n",
       "1  211.242170         8.106  2010Q1  2010-02 2020-10-06 3889 days  Friday  \n",
       "2  211.289143         8.106  2010Q1  2010-02 2020-10-06 3882 days  Friday  \n",
       "3  211.319643         8.106  2010Q1  2010-02 2020-10-06 3875 days  Friday  \n",
       "4  211.350143         8.106  2010Q1  2010-03 2020-10-06 3868 days  Friday  "
      ]
     },
     "execution_count": 28,
     "metadata": {},
     "output_type": "execute_result"
    }
   ],
   "source": [
    "#Change dates into days by creating new variable.\n",
    "wal_sales['today']=date.today()\n",
    "wal_sales['today']=pd.to_datetime(wal_sales['today'])\n",
    "wal_sales['days'] = wal_sales['today']-wal_sales['Date']\n",
    "wal_sales['day']=pd.to_datetime(wal_sales.Date).dt.day_name()\n",
    "wal_sales.head()"
   ]
  },
  {
   "cell_type": "markdown",
   "metadata": {},
   "source": [
    "OBSERVATIONS:\n",
    "\n",
    "#Change dates into days by creating new variable.\n",
    "\n",
    "\n",
    "THE MAIN OBSERVATION AFTER LOOKING AT THE DATES IS THAT, THE WEEKLY SALES ARE RECORDED EVERY FRIDAY. THE VARIABLE IS APPENDED TO THE ALREADY EXISTING FILE FOR FURTHER ANALYSIS."
   ]
  }
 ],
 "metadata": {
  "kernelspec": {
   "display_name": "Python 3",
   "language": "python",
   "name": "python3"
  },
  "language_info": {
   "codemirror_mode": {
    "name": "ipython",
    "version": 3
   },
   "file_extension": ".py",
   "mimetype": "text/x-python",
   "name": "python",
   "nbconvert_exporter": "python",
   "pygments_lexer": "ipython3",
   "version": "3.7.6"
  }
 },
 "nbformat": 4,
 "nbformat_minor": 4
}

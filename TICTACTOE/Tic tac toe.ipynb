{
 "cells": [
  {
   "cell_type": "markdown",
   "metadata": {},
   "source": [
    "Project: TIC TAC TOE GAME"
   ]
  },
  {
   "cell_type": "markdown",
   "metadata": {},
   "source": [
    "''' Logic of the function is as follows\n",
    "while the game is true\n",
    "1. do you want to play the game with y or n\n",
    "2. who plays first: conputer choice\n",
    "3. which mark you want to choose X or O, other is default assigned to O\n",
    "4. which position you want to place the mark.\n",
    "5. check for borad is full or not\n",
    "6. check for winning position\n",
    "7. do you want to replay the game'''"
   ]
  },
  {
   "cell_type": "code",
   "execution_count": 1,
   "metadata": {},
   "outputs": [],
   "source": [
    "#Import the related modules first\n",
    "from IPython.display import clear_output\n",
    "import random"
   ]
  },
  {
   "cell_type": "code",
   "execution_count": 2,
   "metadata": {},
   "outputs": [],
   "source": [
    "#Choosing the player\n",
    "def choose_first():\n",
    "    if random.randint(0,1)==0:\n",
    "        return 'Player1'\n",
    "    else:\n",
    "        return 'Player2'"
   ]
  },
  {
   "cell_type": "code",
   "execution_count": 3,
   "metadata": {},
   "outputs": [],
   "source": [
    "#Display of the board\n",
    "def board_display(board):\n",
    "    clear_output()\n",
    "    print('   |   |   ')\n",
    "    print(' '+board[1]+' | '+board[2]+' | '+board[3]+'')\n",
    "    print('   |   |   ')\n",
    "    print('-----------')\n",
    "    print('   |   |   ')\n",
    "    print(' '+board[4]+' | '+board[5]+' | '+board[6]+'')\n",
    "    print('   |   |   ')\n",
    "    print('-----------')\n",
    "    print('   |   |   ')\n",
    "    print(' '+board[7]+' | '+board[8]+' | '+board[9]+'')\n",
    "    print('   |   |   ')\n",
    "    print('-----------')\n",
    "    "
   ]
  },
  {
   "cell_type": "code",
   "execution_count": 4,
   "metadata": {},
   "outputs": [],
   "source": [
    "#Player gets the choice of choosing the mark X or O\n",
    "def mark_input():\n",
    "    mark=''\n",
    "    while mark!='X' or mark!='O':\n",
    "        mark = input(\"X/O please choose: \").upper()\n",
    "        if mark == 'X':\n",
    "            return ('X','O')\n",
    "        else:\n",
    "            return ('O','X')"
   ]
  },
  {
   "cell_type": "code",
   "execution_count": 5,
   "metadata": {},
   "outputs": [],
   "source": [
    "#The mark is placed in the position\n",
    "def board_mark(board,position,mark):\n",
    "    board[position]=mark"
   ]
  },
  {
   "cell_type": "code",
   "execution_count": 6,
   "metadata": {},
   "outputs": [],
   "source": [
    "def space_check(board, position):\n",
    "    return board[position]==\" \""
   ]
  },
  {
   "cell_type": "code",
   "execution_count": 7,
   "metadata": {},
   "outputs": [],
   "source": [
    "#Player choosing the position from 1 to 9\n",
    "def position_choice(position):\n",
    "    position = 0\n",
    "    while position not in [1,2,3,4,5,6,7,8,9] or not space_check(board,position):\n",
    "        position = int(input('Please enter the position in which you want the mark to be placed (1-9):'))\n",
    "    return position\n"
   ]
  },
  {
   "cell_type": "code",
   "execution_count": 8,
   "metadata": {},
   "outputs": [],
   "source": [
    "#Winner check\n",
    "def win_check(board,mark):\n",
    "    return ((board[1]==mark and board[2]==mark and board[3]==mark) or\n",
    "            (board[4]==mark and board[5]==mark and board[6]==mark) or\n",
    "            (board[7]==mark and board[8]==mark and board[9]==mark) or\n",
    "            (board[1]==mark and board[4]==mark and board[7]==mark) or\n",
    "            (board[2]==mark and board[5]==mark and board[8]==mark) or\n",
    "            (board[3]==mark and board[6]==mark and board[9]==mark) or\n",
    "            (board[1]==mark and board[5]==mark and board[9]==mark) or\n",
    "            (board[3]==mark and board[5]==mark and board[7]==mark))"
   ]
  },
  {
   "cell_type": "code",
   "execution_count": 9,
   "metadata": {},
   "outputs": [],
   "source": [
    "# Full board with nobody wins logic\n",
    "def full_board(board):\n",
    "    for i in range(1,10):\n",
    "        if space_check(board,i)==True:\n",
    "            return False\n",
    "    return True"
   ]
  },
  {
   "cell_type": "code",
   "execution_count": 10,
   "metadata": {},
   "outputs": [
    {
     "name": "stdout",
     "output_type": "stream",
     "text": [
      "   |   |   \n",
      " X | O | X\n",
      "   |   |   \n",
      "-----------\n",
      "   |   |   \n",
      " O | X | O\n",
      "   |   |   \n",
      "-----------\n",
      "   |   |   \n",
      " O | X | X\n",
      "   |   |   \n",
      "-----------\n",
      "Congratulations Player1 wins!!\n"
     ]
    }
   ],
   "source": [
    "#Welcome to TIC TAC TOE game\n",
    "\n",
    "\n",
    "#Welcome message\n",
    "print(\"Welcome to TIC TAC TOE game!\")\n",
    "pm1,pm2 = mark_input()\n",
    "#Displaying the empty boards, which will be filled by the players\n",
    "board = [' ']*10\n",
    "board_display(board)\n",
    "#Choosing the player to play first\n",
    "turn=choose_first()\n",
    "print(turn+'will play first')\n",
    "#Checking whether the players really want to play the game\n",
    "play = input(\"Do you really want to play (y / n): \")\n",
    "if play.upper().startswith('Y'):\n",
    "    gameon = True\n",
    "else:\n",
    "    gameon = False\n",
    "while gameon==True:\n",
    "    if turn =='Player1':\n",
    "        board_display(board)\n",
    "        print(\"Player 1 plays with mark of {}\".format(pm1))\n",
    "        position = position_choice(board)\n",
    "        board_mark(board,position,pm1)\n",
    "        if win_check(board,pm1) == True:\n",
    "            print(\"wincheck called\")\n",
    "            board_display(board)\n",
    "            print(f\"Congratulations {turn} wins!!\")\n",
    "            gameon=False\n",
    "        else:\n",
    "            if full_board(board)==True:\n",
    "                board_display(board)\n",
    "                print(\"The match is a draw!!!!!\")\n",
    "                break\n",
    "            else:\n",
    "                turn = 'Player2'\n",
    "    else:\n",
    "        board_display(board)\n",
    "        print(\"Player 2 plays with mark of {}\".format(pm2))\n",
    "        position = position_choice(board)\n",
    "        board_mark(board,position,pm2)\n",
    "        if win_check(board,pm2) ==True:\n",
    "            board_display(board)\n",
    "            print(f\"Congratulations {turn} wins!!\")\n",
    "            gameon=False\n",
    "        else:\n",
    "            if full_board(board)==True:\n",
    "                board_display(board)\n",
    "                print(\"The match is a draw!!!!!\")\n",
    "                break\n",
    "            else:\n",
    "                turn = 'Player1'"
   ]
  },
  {
   "cell_type": "code",
   "execution_count": null,
   "metadata": {},
   "outputs": [],
   "source": []
  },
  {
   "cell_type": "code",
   "execution_count": null,
   "metadata": {},
   "outputs": [],
   "source": []
  },
  {
   "cell_type": "code",
   "execution_count": null,
   "metadata": {},
   "outputs": [],
   "source": []
  },
  {
   "cell_type": "code",
   "execution_count": null,
   "metadata": {},
   "outputs": [],
   "source": []
  }
 ],
 "metadata": {
  "kernelspec": {
   "display_name": "Python 3",
   "language": "python",
   "name": "python3"
  },
  "language_info": {
   "codemirror_mode": {
    "name": "ipython",
    "version": 3
   },
   "file_extension": ".py",
   "mimetype": "text/x-python",
   "name": "python",
   "nbconvert_exporter": "python",
   "pygments_lexer": "ipython3",
   "version": "3.8.3"
  }
 },
 "nbformat": 4,
 "nbformat_minor": 1
}
